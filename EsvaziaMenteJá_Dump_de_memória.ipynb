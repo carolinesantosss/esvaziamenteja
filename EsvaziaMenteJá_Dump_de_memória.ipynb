{
  "nbformat": 4,
  "nbformat_minor": 0,
  "metadata": {
    "colab": {
      "provenance": []
    },
    "kernelspec": {
      "name": "python3",
      "display_name": "Python 3"
    },
    "language_info": {
      "name": "python"
    }
  },
  "cells": [
    {
      "cell_type": "code",
      "source": [
        "!pip -q install google-genai"
      ],
      "metadata": {
        "id": "dAZXTg60FVUU"
      },
      "execution_count": null,
      "outputs": []
    },
    {
      "cell_type": "code",
      "source": [
        "# Configura a API Key do Google Gemini\n",
        "\n",
        "import os\n",
        "from google.colab import userdata\n",
        "\n",
        "# Cria uma variável de ambiente\n",
        "os.environ[\"GOOGLE_API_KEY\"] = userdata.get('GOOGLE_API_KEY')"
      ],
      "metadata": {
        "id": "a-fQCUy3FX6F"
      },
      "execution_count": null,
      "outputs": []
    },
    {
      "cell_type": "code",
      "source": [
        "# Configura o cliente da SDK do Gemini\n",
        "\n",
        "from google import genai\n",
        "\n",
        "client = genai.Client()\n",
        "\n",
        "MODEL_ID = \"gemini-2.0-flash\""
      ],
      "metadata": {
        "id": "b2AcZs1QFbAF"
      },
      "execution_count": null,
      "outputs": []
    },
    {
      "cell_type": "code",
      "source": [
        "for model in client.models.list():\n",
        "  print(model.name)"
      ],
      "metadata": {
        "colab": {
          "base_uri": "https://localhost:8080/"
        },
        "id": "37S1B8tPFckZ",
        "outputId": "8359c392-7d39-42a5-bbed-167641d9d969"
      },
      "execution_count": null,
      "outputs": [
        {
          "output_type": "stream",
          "name": "stdout",
          "text": [
            "models/chat-bison-001\n",
            "models/text-bison-001\n",
            "models/embedding-gecko-001\n",
            "models/gemini-1.0-pro-vision-latest\n",
            "models/gemini-pro-vision\n",
            "models/gemini-1.5-pro-latest\n",
            "models/gemini-1.5-pro-001\n",
            "models/gemini-1.5-pro-002\n",
            "models/gemini-1.5-pro\n",
            "models/gemini-1.5-flash-latest\n",
            "models/gemini-1.5-flash-001\n",
            "models/gemini-1.5-flash-001-tuning\n",
            "models/gemini-1.5-flash\n",
            "models/gemini-1.5-flash-002\n",
            "models/gemini-1.5-flash-8b\n",
            "models/gemini-1.5-flash-8b-001\n",
            "models/gemini-1.5-flash-8b-latest\n",
            "models/gemini-1.5-flash-8b-exp-0827\n",
            "models/gemini-1.5-flash-8b-exp-0924\n",
            "models/gemini-2.5-pro-exp-03-25\n",
            "models/gemini-2.5-pro-preview-03-25\n",
            "models/gemini-2.5-flash-preview-04-17\n",
            "models/gemini-2.5-flash-preview-04-17-thinking\n",
            "models/gemini-2.5-pro-preview-05-06\n",
            "models/gemini-2.0-flash-exp\n",
            "models/gemini-2.0-flash\n",
            "models/gemini-2.0-flash-001\n",
            "models/gemini-2.0-flash-exp-image-generation\n",
            "models/gemini-2.0-flash-lite-001\n",
            "models/gemini-2.0-flash-lite\n",
            "models/gemini-2.0-flash-preview-image-generation\n",
            "models/gemini-2.0-flash-lite-preview-02-05\n",
            "models/gemini-2.0-flash-lite-preview\n",
            "models/gemini-2.0-pro-exp\n",
            "models/gemini-2.0-pro-exp-02-05\n",
            "models/gemini-exp-1206\n",
            "models/gemini-2.0-flash-thinking-exp-01-21\n",
            "models/gemini-2.0-flash-thinking-exp\n",
            "models/gemini-2.0-flash-thinking-exp-1219\n",
            "models/learnlm-2.0-flash-experimental\n",
            "models/gemma-3-1b-it\n",
            "models/gemma-3-4b-it\n",
            "models/gemma-3-12b-it\n",
            "models/gemma-3-27b-it\n",
            "models/embedding-001\n",
            "models/text-embedding-004\n",
            "models/gemini-embedding-exp-03-07\n",
            "models/gemini-embedding-exp\n",
            "models/aqa\n",
            "models/imagen-3.0-generate-002\n",
            "models/gemini-2.0-flash-live-001\n"
          ]
        }
      ]
    },
    {
      "cell_type": "code",
      "source": [
        "# Instalar Framework ADK de agentes do Google ################################################\n",
        "%pip install -q google-adk"
      ],
      "metadata": {
        "id": "mSwjB41NFe6P"
      },
      "execution_count": null,
      "outputs": []
    },
    {
      "cell_type": "code",
      "source": [
        "from google.adk.agents import Agent\n",
        "from google.adk.runners import Runner\n",
        "from google.adk.sessions import InMemorySessionService\n",
        "from google.adk.tools import google_search\n",
        "from google.genai import types  # Para criar conteúdos (Content e Part)\n",
        "from datetime import date\n",
        "import textwrap # Para formatar melhor a saída de texto\n",
        "from IPython.display import display, Markdown # Para exibir texto formatado no Colab\n",
        "import requests # Para fazer requisições HTTP\n",
        "import warnings\n",
        "\n",
        "warnings.filterwarnings(\"ignore\")"
      ],
      "metadata": {
        "id": "vTByzhPdGLRk"
      },
      "execution_count": null,
      "outputs": []
    },
    {
      "cell_type": "code",
      "source": [
        "# Função auxiliar que envia uma mensagem para um agente via Runner e retorna a resposta final\n",
        "def call_agent(agent: Agent, message_text: str) -> str:\n",
        "    # Cria um serviço de sessão em memória\n",
        "    session_service = InMemorySessionService()\n",
        "    # Cria uma nova sessão (você pode personalizar os IDs conforme necessário)\n",
        "    session = session_service.create_session(app_name=agent.name, user_id=\"user1\", session_id=\"session1\")\n",
        "    # Cria um Runner para o agente\n",
        "    runner = Runner(agent=agent, app_name=agent.name, session_service=session_service)\n",
        "    # Cria o conteúdo da mensagem de entrada\n",
        "    content = types.Content(role=\"user\", parts=[types.Part(text=message_text)])\n",
        "\n",
        "    final_response = \"\"\n",
        "    # Itera assincronamente pelos eventos retornados durante a execução do agente\n",
        "    for event in runner.run(user_id=\"user1\", session_id=\"session1\", new_message=content):\n",
        "        if event.is_final_response():\n",
        "          for part in event.content.parts:\n",
        "            if part.text is not None:\n",
        "              final_response += part.text\n",
        "              final_response += \"\\n\"\n",
        "    return final_response"
      ],
      "metadata": {
        "id": "Kl8iblyCGQZe"
      },
      "execution_count": null,
      "outputs": []
    },
    {
      "cell_type": "code",
      "source": [
        "#Integração com Google Tarefas e Google Agenda\n",
        "from googleapiclient.discovery import build\n",
        "\n",
        "def criar_tarefa_google_tarefas(titulo, notas=None, lista_id=\"default\"):\n",
        "    \"\"\"\n",
        "    Função INCOMPLETA para criar uma tarefa no Google Tarefas.\n",
        "    A autenticação e a configuração correta do serviço são necessárias.\n",
        "    \"\"\"\n",
        "    try:\n",
        "        # SERVIÇO DO GOOGLE TAREFAS (requer autenticação)\n",
        "        # service = build('tasks', 'v1', credentials=credentials)\n",
        "        service = None # Substitua pela inicialização correta do serviço autenticado\n",
        "\n",
        "        if service:\n",
        "            task = {'title': titulo}\n",
        "            if notas:\n",
        "                task['notes'] = notas\n",
        "\n",
        "            result = service.tasks().insert(tasklist=lista_id, body=task).execute()\n",
        "            print(f\"Tarefa criada: {result.get('title')}\")\n",
        "        else:\n",
        "            print(\"Serviço do Google Tarefas não inicializado (autenticação pendente).\")\n",
        "\n",
        "    except Exception as e:\n",
        "        print(f\"Ocorreu um erro ao criar a tarefa: {e}\")\n",
        "\n",
        "def criar_evento_google_agenda(summary, start_time, end_time, description=None):\n",
        "    \"\"\"\n",
        "    Função INCOMPLETA para criar um evento no Google Agenda.\n",
        "    A autenticação e a configuração correta do serviço são necessárias.\n",
        "    \"\"\"\n",
        "    try:\n",
        "        # SERVIÇO DO GOOGLE AGENDA (requer autenticação)\n",
        "        # service = build('calendar', 'v3', credentials=credentials)\n",
        "        service = None # Substitua pela inicialização correta do serviço autenticado\n",
        "\n",
        "        if service:\n",
        "            event = {\n",
        "                'summary': summary,\n",
        "                'start': {\n",
        "                    'dateTime': start_time,\n",
        "                    'timeZone': 'America/Sao_Paulo', # Ajuste o fuso horário conforme necessário\n",
        "                },\n",
        "                'end': {\n",
        "                    'dateTime': end_time,\n",
        "                    'timeZone': 'America/Sao_Paulo', # Ajuste o fuso horário conforme necessário\n",
        "                },\n",
        "                'description': description,\n",
        "                'reminders': {\n",
        "                    'useDefault': False,\n",
        "                    'overrides': [\n",
        "                        {'method': 'popup', 'minutes': 30},\n",
        "                    ],\n",
        "                },\n",
        "            }\n",
        "\n",
        "            created_event = service.events().insert(calendarId='primary', body=event).execute()\n",
        "            print(f\"Evento criado: {created_event.get('htmlLink')}\")\n",
        "        else:\n",
        "            print(\"Serviço do Google Agenda não inicializado (autenticação pendente).\")\n",
        "\n",
        "    except Exception as e:\n",
        "        print(f\"Ocorreu um erro ao criar o evento: {e}\")"
      ],
      "metadata": {
        "id": "DWk2pCcIe00O"
      },
      "execution_count": null,
      "outputs": []
    },
    {
      "cell_type": "code",
      "source": [
        "##########################################\n",
        "# --- Agente 1: Categoriza os inputs --- #\n",
        "##########################################\n",
        "\n",
        "def agente_categorizador(texto):\n",
        "    categorizador = Agent(\n",
        "        name=\"agente_categorizador\",\n",
        "        model=\"gemini-2.0-flash\",\n",
        "        description= \"Agente que categoriza os inputs em  'Tarefa', 'Lembrete', 'Ideia', 'Projetos', 'Compromissos' ou 'Outro'\",\n",
        "        tools= [google_search],\n",
        "        instruction=\"\"\"\n",
        "        Você é especialista em produtividade e organização. Utilizando técnicas de Processamento de Linguagem Natural (PLN), você deverá identificar\n",
        "        palavras-chave, frases e o contexto de cada item para atribuir categorias relevantes. Algumas categorias iniciais poderiam ser:\n",
        "        Tarefas/Ações: Coisas que precisam ser feitas.\n",
        "        Lembretes: Informações importantes para recordar. Assim como data limite de entrega de trabalhos, por exemplo.\n",
        "        Ideias/Projetos: Conceitos que podem ser desenvolvidos.\n",
        "        Pensamentos Aleatórios: Reflexões, opiniões, etc. (que podem ser filtrados ou armazenados separadamente).\n",
        "        Informações: Fatos, dados, etc.\n",
        "        Compromissos: Eventos que possuem data e hora marcada.\n",
        "        Lista de Compras: Itens que precisam ser comprados.\n",
        "        \"\"\"\n",
        "    )\n",
        "    entrada_do_agente_categorizador = f\"Texto: {texto}\"\n",
        "    # Executa o agente\n",
        "    itens_categorizados = call_agent(categorizador, entrada_do_agente_categorizador)\n",
        "    return itens_categorizados\n"
      ],
      "metadata": {
        "id": "41W0rwHdIcvz"
      },
      "execution_count": null,
      "outputs": []
    },
    {
      "cell_type": "code",
      "source": [
        "#####################################################\n",
        "# --- Agente 2: Organiza os itens categorizados --- #\n",
        "#####################################################\n",
        "\n",
        "def agente_organizador(itens_categorizados):\n",
        "    organizador = Agent(\n",
        "        name=\"agente_organizador\",\n",
        "        model=\"gemini-2.0-flash\",\n",
        "        description= \"Agente que organiza os itens categorizados de forma estruturada\",\n",
        "        tools= [google_search],\n",
        "        instruction=\"\"\"\n",
        "        Você irá identificar, para a categoria \"Tarefas/Ações\", verbos de ação e sugerir a criação de listas de tarefas com prazos (se mencionados) ou\n",
        "        níveis de prioridade (com base em palavras como \"urgente\", \"importante\").\n",
        "        Para \"Ideias/Projetos\", poderia ajudar a definir um escopo inicial ou identificar os primeiros passos.\n",
        "        Para \"Lembretes\", poderia sugerir a criação de alertas ou anotações em um calendário.\n",
        "        Para \"Compromissos, poderia sugerir a criação de eventos no calendário.\n",
        "        Possíveis Técnicas: Extração de informações, modelagem de tópicos, geração de listas e estruturas.\n",
        "        \"\"\"\n",
        "    )\n",
        "\n",
        "    entrada_do_organizador = f\"Itens Categorizados: {itens_categorizados}\"\n",
        "\n",
        "    # Executa o agente\n",
        "    itens_estruturados = call_agent(organizador, entrada_do_organizador)\n",
        "\n",
        "    return itens_estruturados"
      ],
      "metadata": {
        "id": "ppJGU9_xKVRK"
      },
      "execution_count": null,
      "outputs": []
    },
    {
      "cell_type": "code",
      "source": [
        "##############################################################\n",
        "# --- Agente 3: Prioriza e Planeja os Itens Estruturados --- #\n",
        "##############################################################\n",
        "\n",
        "def agente_planejador(itens_estruturados):\n",
        "    planejador = Agent(\n",
        "        name=\"agente_planejador\",\n",
        "        model=\"gemini-2.0-flash\",\n",
        "        description= \"Agente que prioriza e planeja os itens estruturados\",\n",
        "        tools= [google_search],\n",
        "        instruction=\"\"\"\n",
        "        Você irá analisar a urgência, importância e o contexto das tarefas e projetos para sugerir uma ordem de prioridade.\n",
        "        Você também irá ajudar a quebrar projetos maiores em tarefas menores e mais gerenciáveis.\n",
        "        Possíveis Técnicas: Algoritmos de priorização (como a matriz de Eisenhower), planejamento de projetos básico.\n",
        "        \"\"\"\n",
        "    )\n",
        "\n",
        "    entrada_do_planejador = f\"Itens Estruturados: {itens_estruturados}\"\n",
        "\n",
        "    # Executa o agente\n",
        "    itens_planejados = call_agent(planejador, entrada_do_planejador)\n",
        "    return itens_planejados"
      ],
      "metadata": {
        "id": "2cOYD9n0MCg2"
      },
      "execution_count": null,
      "outputs": []
    },
    {
      "cell_type": "code",
      "source": [
        "###########################################\n",
        "# --- Agente 4: Apresenta o resultado --- #\n",
        "###########################################\n",
        "\n",
        "def agente_apresentador(itens_planejados):\n",
        "    apresentador = Agent(\n",
        "        name=\"agente_final\",\n",
        "        model=\"gemini-2.0-flash\",\n",
        "        description= \"Agente que apresenta o resultado!\",\n",
        "        tools= [google_search],\n",
        "        instruction=\"\"\"\n",
        "        Você vai apresentar os resultados de forma organizada para que o usuário possa entender e agir. Você é especialista em produtividade e organização,\n",
        "        assim, irá sugerir a forma mais prática e objetiva de como o usuário poderá agir. Entregue o resultado de forma organizada. Ao final, sugira onde cada\n",
        "        item deverá ser alocado: lista de compras, tarefas e projetos (já com a lista de tarefas sugeridas nos itens planejados) - Google Tarefas; compromissos e lembretes - Google Agenda; Ideia e outros - Google Keep.\n",
        "        \"\"\"\n",
        "    )\n",
        "\n",
        "    entrada_do_apresentador = f\"Itens Planejados: {itens_planejados}\"\n",
        "\n",
        "    # Executa o agente\n",
        "    resultado_final = call_agent(apresentador, entrada_do_apresentador)\n",
        "    return resultado_final\n"
      ],
      "metadata": {
        "id": "Ei4yZ3jZMyWM"
      },
      "execution_count": null,
      "outputs": []
    },
    {
      "cell_type": "code",
      "source": [
        "print(\"🚀 Iniciando o Sistema de Libere a sua Mente! 🚀\")\n",
        "\n",
        "# --- Obter o Input do Usuário ---\n",
        "texto = input(\"❓ Por favor, digite tudo o que estiver em sua mente! \")\n",
        "\n",
        "# Inserir lógica do sistema de agentes ################################################\n",
        "if not texto:\n",
        "  print(\"Você esqueceu de digitar o texto!\")\n",
        "else:\n",
        "  print(f\"Maravilha! Vamos esvaziar essa mente e colocar tudo em ordem!\")\n",
        "  # Chama o primeiro agente - Categorizador\n",
        "  dump_de_memoria= agente_categorizador (texto)\n",
        "  #print(\"\\n--- Resultado do agente 1 (Categorizador) ---\\n\")\n",
        "  #display(to_markdown(dump_de_memoria))\n",
        "  #print(\"-------------------------------------------------------------\")\n",
        "\n",
        "  # Chama o segundo agente - Organizador\n",
        "  itens_organizados = agente_organizador(dump_de_memoria)\n",
        "  #print(\"\\n--- Resultado do agente 2 (Categorizador) ---\\n\")\n",
        "  #display(to_markdown(itens_organizados))\n",
        "  # print(\"-------------------------------------------------------------\")\n",
        "\n",
        "  # Chama o terceiro agente - Planejador\n",
        "  planejamento = agente_planejador(itens_organizados)\n",
        "  #print(\"\\n--- Resultado do agente 3 (Planejador) ---\\n\")\n",
        "  #display(to_markdown(planejamento))\n",
        "  #print(\"-------------------------------------------------------------\")\n",
        "\n",
        "  # Chama o quarto agente - Apresentador\n",
        "  resultado = agente_apresentador(planejamento)\n",
        "  print(\"\\n--- Resultado do agente 4 (Apresentador) ---\\n\")\n",
        "  display(to_markdown(resultado))\n",
        "  print(\"-------------------------------------------------------------\")\n",
        "\n"
      ],
      "metadata": {
        "colab": {
          "base_uri": "https://localhost:8080/",
          "height": 837
        },
        "id": "MRK6URSYXb03",
        "outputId": "624e3ad7-3fd1-44c7-bdd1-2f037fdefa42"
      },
      "execution_count": null,
      "outputs": [
        {
          "output_type": "stream",
          "name": "stdout",
          "text": [
            "🚀 Iniciando o Sistema de Libere a sua Mente! 🚀\n",
            "❓ Por favor, digite tudo o que estiver em sua mente!  Estou pensando em fazer um intercâmbio, talvez para a Inglaterra. Na próxima semana tem um evento legal de astronomia, no dia 25 às 19h.   Preciso comprar banana, maçã e limão. Na segunda-feira tenho que ligar para o João.  Estou pensando em um novo projeto, talvez trabalhar com IA.      preciso voltar a ler, comprei alguns livros mas ainda não os comecei. Tambén preciso melhorar meus tempos para estudos, tanto para desenho como   para automação de testes. Treino ciclismo sempre pela manha em torno das 5h até 8h, menos as segundas-feiras. Preciso separar roupas para doação e comprar novas. Preciso consertar algumas coisas da casa como as tomadas e a cortina rasgada da sala. Preciso arrumar a planta da sala, colocar um tutor e criar um muda pois está muito grande.\n",
            "Maravilha! Vamos esvaziar essa mente e colocar tudo em ordem!\n",
            "\n",
            "--- Resultado do agente 4 (Apresentador) ---\n",
            "\n"
          ]
        },
        {
          "output_type": "display_data",
          "data": {
            "text/plain": [
              "<IPython.core.display.Markdown object>"
            ],
            "text/markdown": "> Com base na sua lista de itens planejados, aqui está uma sugestão de como alocar cada item nas ferramentas do Google para otimizar sua organização e produtividade:\n> \n> **Google Tarefas:**\n> \n> *   **Listas de Compras:**\n>     *   Crie uma lista chamada \"Mercado\" e adicione: Banana, Maçã, Limão.\n>     *   Crie uma lista chamada \"Roupas\" e adicione: Roupas novas (especifique os tipos: camisas, calças, etc.). Detalhe ao máximo para facilitar a compra.\n> *   **Tarefas:**\n>     *   **Consertar tomadas e a cortina rasgada da sala:** Divida em subtarefas como \"Comprar materiais para tomadas\", \"Agendar eletricista (se necessário)\", \"Avaliar se a cortina pode ser consertada\" ou \"Comprar nova cortina\". Defina prazos.\n>     *   **Intercâmbio para a Inglaterra:** Crie subtarefas como \"Pesquisar programas de intercâmbio\", \"Verificar requisitos\", \"Calcular custos\", \"Definir tipo de intercâmbio e instituições\".\n>     *   **Novo projeto para trabalhar com IA:** Subtarefas: \"Definir área de IA\", \"Pesquisar ferramentas necessárias\", \"Criar plano de estudos/curso online\".\n>     *   **Voltar a ler:** Subtarefas: \"Definir tempo diário para leitura\", \"Escolher o primeiro livro\".\n>     *   **Melhorar meus tempos para estudos:**\n>         *   Desenho: \"Criar cronograma de estudos de desenho\", \"Identificar áreas de atenção\", \"Encontrar materiais de apoio\".\n>         *   Automação de testes: \"Criar plano de estudos para automação de testes\", \"Escolher ferramentas\", \"Praticar com projetos\".\n>     *   **Separar roupas para doação:** Agende um dia/hora para revisar o guarda-roupa e separar as peças.\n>     *   **Arrumar a planta da sala:** Subtarefas: \"Colocar tutor na planta\", \"Criar muda da planta\".\n> \n> **Google Agenda:**\n> \n> *   **Evento de astronomia (dia 25 às 19h):** Crie o evento com lembretes (1 dia antes e 2 horas antes). Inclua detalhes como local e o que levar.\n> *   **Ligar para o João (segunda-feira):** Agende um lembrete para segunda-feira de manhã.\n> *   **Revisão Semanal:** Reserve um tempo fixo no final de cada semana para revisar suas tarefas e ajustar o plano.\n> *   **Treino ciclismo:** Agende os horários de treino, se forem fixos, ou crie lembretes para os dias de treino.\n> \n> **Google Keep:**\n> \n> *   **Ideias e outros:** Use para armazenar informações gerais, links de programas de intercâmbio, ideias para o projeto de IA, anotações sobre os livros que quer ler, etc.\n>     *   Crie notas separadas para cada projeto/área, como \"Intercâmbio Inglaterra - Ideias\", \"Projeto IA - Ferramentas\", \"Leitura - Próximos Livros\".\n> \n> Ao organizar seus itens nessas ferramentas, você terá uma visão clara de suas tarefas, compromissos e ideias, facilitando o acompanhamento e a execução de cada um. Lembre-se de revisar suas tarefas e compromissos regularmente para manter tudo atualizado e garantir que você esteja no caminho certo para alcançar seus objetivos.\n> \n"
          },
          "metadata": {}
        },
        {
          "output_type": "stream",
          "name": "stdout",
          "text": [
            "-------------------------------------------------------------\n"
          ]
        }
      ]
    }
  ]
}